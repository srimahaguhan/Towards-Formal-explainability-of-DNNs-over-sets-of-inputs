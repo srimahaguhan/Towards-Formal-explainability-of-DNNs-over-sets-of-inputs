{
 "cells": [
  {
   "cell_type": "code",
   "execution_count": 1,
   "id": "eb0070f6",
   "metadata": {},
   "outputs": [],
   "source": [
    "from z3 import *"
   ]
  },
  {
   "cell_type": "code",
   "execution_count": 2,
   "id": "4df2893e",
   "metadata": {},
   "outputs": [],
   "source": [
    "def Relu(x):\n",
    "    return If(x>0, x, 0)"
   ]
  },
  {
   "cell_type": "code",
   "execution_count": 3,
   "id": "9fc7df0b",
   "metadata": {},
   "outputs": [],
   "source": [
    "def get_model(arr):\n",
    "\n",
    "    s=Solver()\n",
    "    s.add(arr)\n",
    "    s.add(h1 == Relu(w11 * x1 + w12 * x2 + w13 * x3 + b1 ))\n",
    "    s.add(h2 == Relu(w21 * x1 + w22 * x2 + w23 * x3 + b2))\n",
    "    s.add(h3 == Relu(w31 * x1 + w32 * x2 + w33 * x3 + b3))\n",
    "    s.add(output1 == (w1 * h1 + w2 * h2 + w3 * h3))\n",
    "    s.add(output2 == (w4 * h1 + w5 * h2 + w6 * h3))\n",
    "\n",
    "    return s"
   ]
  },
  {
   "cell_type": "code",
   "execution_count": 4,
   "id": "3b8b0a6c",
   "metadata": {},
   "outputs": [],
   "source": [
    "x1, x2, x3 = Reals('x1 x2 x3')\n",
    "b1, b2, b3 = Reals('b1 b2 b3')\n",
    "h1, h2, h3 = Reals('h1 h2 h3')\n",
    "w11, w12, w13, w21, w22, w23, w31, w32, w33 = Reals('w11 w12 w13 w21 w22 w23 w31 w32 w33') \n",
    "w1, w2, w3 = Reals('w1 w2 w3')\n",
    "w4, w5, w6 = Reals('w4 w5 w6')\n",
    "output1, output2 = Reals('output1 output2')"
   ]
  },
  {
   "cell_type": "code",
   "execution_count": 5,
   "id": "c1092844",
   "metadata": {},
   "outputs": [],
   "source": [
    "constraints = [\n",
    "    Or(x1==0,x1==1) ,Or(x2==0,x2==1), Or(x3==0,x3==1),\n",
    "    w11 == 2, w12 == 3, w13 == 5, \n",
    "    w21 == 2, w22 == 3, w23 == 7,\n",
    "    w31 == 2, w32 == 3, w33 == 6,\n",
    "    w1 == 1, w2 == 1, w3 == 0,\n",
    "    w4 == -1, w5 == -1, w6 == 1,\n",
    "    b1 == -4 , b2 == -3 , b3 == 0,\n",
    "]"
   ]
  },
  {
   "cell_type": "code",
   "execution_count": 6,
   "id": "4c3bbea3",
   "metadata": {},
   "outputs": [],
   "source": [
    "def Verify(arr,subset,output):\n",
    "    model=get_model(arr)\n",
    "    \n",
    "    for i in subset:\n",
    "        model.add(i==subset[i])\n",
    "    \n",
    "    model.add(output1!=output)\n",
    "    \n",
    "    out=model.check()\n",
    "    \n",
    "    if out==sat:\n",
    "        print(\"Is not an Explanation\")\n",
    "    else:\n",
    "        print(\"Is an Explanation\")\n",
    "        \n",
    "    return model"
   ]
  },
  {
   "cell_type": "code",
   "execution_count": 7,
   "id": "c49ad51b",
   "metadata": {},
   "outputs": [
    {
     "name": "stdout",
     "output_type": "stream",
     "text": [
      "Is an Explanation\n"
     ]
    }
   ],
   "source": [
    "v=Verify(constraints,{x2:1,x1:1,x3:1},15)"
   ]
  },
  {
   "cell_type": "code",
   "execution_count": 8,
   "id": "e9871e68",
   "metadata": {},
   "outputs": [
    {
     "name": "stdout",
     "output_type": "stream",
     "text": [
      "Is not an Explanation\n"
     ]
    }
   ],
   "source": [
    "v=Verify(constraints,{x2:1,x3:1},11)"
   ]
  },
  {
   "cell_type": "code",
   "execution_count": null,
   "id": "a40b18c2",
   "metadata": {},
   "outputs": [],
   "source": []
  }
 ],
 "metadata": {
  "kernelspec": {
   "display_name": "Python [conda env:SMT]",
   "language": "python",
   "name": "conda-env-SMT-py"
  },
  "language_info": {
   "codemirror_mode": {
    "name": "ipython",
    "version": 3
   },
   "file_extension": ".py",
   "mimetype": "text/x-python",
   "name": "python",
   "nbconvert_exporter": "python",
   "pygments_lexer": "ipython3",
   "version": "3.10.4"
  }
 },
 "nbformat": 4,
 "nbformat_minor": 5
}
